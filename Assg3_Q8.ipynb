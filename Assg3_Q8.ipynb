{
 "cells": [
  {
   "cell_type": "code",
   "execution_count": 4,
   "id": "3f08fc57-155d-4fe9-9ae7-c2575533c95e",
   "metadata": {},
   "outputs": [
    {
     "name": "stdin",
     "output_type": "stream",
     "text": [
      "Enter the number: 212\n"
     ]
    },
    {
     "name": "stdout",
     "output_type": "stream",
     "text": [
      "The number is a Palindrome.\n"
     ]
    }
   ],
   "source": [
    "n=int(input(\"Enter the number:\"))\n",
    "temp = n\n",
    "rev = 0\n",
    "while n>0:\n",
    "      num=n%10\n",
    "      rev=rev*10+num\n",
    "      n=n//10\n",
    "if temp==rev:\n",
    "      print(\"The number is a Palindrome.\")\n",
    "else:\n",
    "      print(\"The number is not a Palindrome.\")"
   ]
  },
  {
   "cell_type": "code",
   "execution_count": null,
   "id": "91958d53-23ef-4243-8256-4cd9cdb7afa1",
   "metadata": {},
   "outputs": [],
   "source": []
  }
 ],
 "metadata": {
  "kernelspec": {
   "display_name": "Python 3 (ipykernel)",
   "language": "python",
   "name": "python3"
  },
  "language_info": {
   "codemirror_mode": {
    "name": "ipython",
    "version": 3
   },
   "file_extension": ".py",
   "mimetype": "text/x-python",
   "name": "python",
   "nbconvert_exporter": "python",
   "pygments_lexer": "ipython3",
   "version": "3.10.8"
  }
 },
 "nbformat": 4,
 "nbformat_minor": 5
}
