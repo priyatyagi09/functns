{
 "cells": [
  {
   "cell_type": "markdown",
   "id": "5d7108fc-9b36-496e-ae75-26bfba223033",
   "metadata": {},
   "source": [
    "A generator function is something which generates the data in steps.\n",
    "'yield' ia a special reserved keyword which helps to create the generator function and throw the data"
   ]
  },
  {
   "cell_type": "code",
   "execution_count": 11,
   "id": "d03afc81-531f-4b60-8b20-bb869e3635a9",
   "metadata": {},
   "outputs": [],
   "source": [
    "def gen_func(n):\n",
    "    a,b = 5,1\n",
    "    for i in range(n):\n",
    "        yield a*b\n",
    "        b = b+1"
   ]
  },
  {
   "cell_type": "code",
   "execution_count": 12,
   "id": "e8f2a7a9-7963-449f-8066-b09ff9db920a",
   "metadata": {},
   "outputs": [
    {
     "name": "stdout",
     "output_type": "stream",
     "text": [
      "5\n",
      "10\n",
      "15\n",
      "20\n",
      "25\n",
      "30\n",
      "35\n",
      "40\n",
      "45\n",
      "50\n"
     ]
    }
   ],
   "source": [
    "for i in gen_func(10):\n",
    "    print(i)"
   ]
  },
  {
   "cell_type": "code",
   "execution_count": null,
   "id": "31e7d882-8b78-4747-9cd0-408a4b66d28e",
   "metadata": {},
   "outputs": [],
   "source": []
  }
 ],
 "metadata": {
  "kernelspec": {
   "display_name": "Python 3 (ipykernel)",
   "language": "python",
   "name": "python3"
  },
  "language_info": {
   "codemirror_mode": {
    "name": "ipython",
    "version": 3
   },
   "file_extension": ".py",
   "mimetype": "text/x-python",
   "name": "python",
   "nbconvert_exporter": "python",
   "pygments_lexer": "ipython3",
   "version": "3.10.8"
  }
 },
 "nbformat": 4,
 "nbformat_minor": 5
}
