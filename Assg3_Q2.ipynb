{
 "cells": [
  {
   "cell_type": "markdown",
   "id": "811625ae-1b9c-466b-9632-7ce217275b21",
   "metadata": {},
   "source": [
    "*args is used to pass n number of arguments in the function while **kwargs is used to pass n number of arguments in the form of key-value pair."
   ]
  },
  {
   "cell_type": "code",
   "execution_count": 3,
   "id": "e0e7df3c-28bc-4e93-96d5-f7246bd63b0a",
   "metadata": {},
   "outputs": [],
   "source": [
    "# *args example:\n",
    "def fnct1(*args):\n",
    "    print(*args)"
   ]
  },
  {
   "cell_type": "code",
   "execution_count": 4,
   "id": "3917260e-3d6d-47f2-9655-00087cd3b602",
   "metadata": {},
   "outputs": [
    {
     "name": "stdout",
     "output_type": "stream",
     "text": [
      "hello This is Priya Tyagi 1876 [3, 4, 5, 6]\n"
     ]
    }
   ],
   "source": [
    "fnct1(\"hello\", \"This is Priya Tyagi\", 1876, [3,4,5,6])"
   ]
  },
  {
   "cell_type": "code",
   "execution_count": 6,
   "id": "c97ebfca-20c7-463e-ac11-a555cac1b0ab",
   "metadata": {},
   "outputs": [],
   "source": [
    "def fnct1(*args):\n",
    "    return args"
   ]
  },
  {
   "cell_type": "code",
   "execution_count": 7,
   "id": "c5a1c9ae-5585-4c81-b88f-5e8c97dad88e",
   "metadata": {},
   "outputs": [
    {
     "data": {
      "text/plain": [
       "('hello', 'This is Priya Tyagi', 1876, [3, 4, 5, 6])"
      ]
     },
     "execution_count": 7,
     "metadata": {},
     "output_type": "execute_result"
    }
   ],
   "source": [
    "fnct1(\"hello\", \"This is Priya Tyagi\", 1876, [3,4,5,6])"
   ]
  },
  {
   "cell_type": "code",
   "execution_count": 8,
   "id": "26d20b72-e8c7-4839-a9a5-dca050238626",
   "metadata": {},
   "outputs": [],
   "source": [
    "# **kwargs example:\n",
    "def fnct2(**kwargs):\n",
    "    return kwargs"
   ]
  },
  {
   "cell_type": "code",
   "execution_count": 9,
   "id": "e560c7c0-5625-47bd-993b-7113b9e36694",
   "metadata": {},
   "outputs": [
    {
     "data": {
      "text/plain": [
       "{'a': 'hello',\n",
       " 'b': 'world',\n",
       " 'c': 47,\n",
       " 'd': 365.7,\n",
       " 'e': [3, 6, 9],\n",
       " 'f': ('abc', 68, 23.5)}"
      ]
     },
     "execution_count": 9,
     "metadata": {},
     "output_type": "execute_result"
    }
   ],
   "source": [
    "fnct2(a=\"hello\", b=\"world\", c=47, d=365.7, e=[3,6,9], f=(\"abc\",68,23.50))"
   ]
  },
  {
   "cell_type": "code",
   "execution_count": null,
   "id": "bfb0482a-8b4c-4099-9c12-799ae5310fee",
   "metadata": {},
   "outputs": [],
   "source": []
  }
 ],
 "metadata": {
  "kernelspec": {
   "display_name": "Python 3 (ipykernel)",
   "language": "python",
   "name": "python3"
  },
  "language_info": {
   "codemirror_mode": {
    "name": "ipython",
    "version": 3
   },
   "file_extension": ".py",
   "mimetype": "text/x-python",
   "name": "python",
   "nbconvert_exporter": "python",
   "pygments_lexer": "ipython3",
   "version": "3.10.8"
  }
 },
 "nbformat": 4,
 "nbformat_minor": 5
}
