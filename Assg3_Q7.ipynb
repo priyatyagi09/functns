{
 "cells": [
  {
   "cell_type": "code",
   "execution_count": 9,
   "id": "050cd3b6-910f-4532-97ed-0d627b836e76",
   "metadata": {},
   "outputs": [
    {
     "name": "stdout",
     "output_type": "stream",
     "text": [
      "p\n",
      "w\n",
      "s\n",
      "k\n",
      "i\n",
      "l\n",
      "l\n",
      "s\n"
     ]
    }
   ],
   "source": [
    "s=\"pwskills\"\n",
    "l=iter(s)\n",
    "for i in range(len(s)):\n",
    "    print(next(l))\n",
    "\n",
    "    "
   ]
  },
  {
   "cell_type": "markdown",
   "id": "c57df8ed-404e-4b11-a397-8c7f21cd618b",
   "metadata": {},
   "source": [
    "#Another Method"
   ]
  },
  {
   "cell_type": "code",
   "execution_count": 8,
   "id": "9b8a64db-6110-46ca-adcb-f4d4793d3caf",
   "metadata": {},
   "outputs": [
    {
     "name": "stdout",
     "output_type": "stream",
     "text": [
      "['p', 'w', 's', 'k', 'i', 'l', 'l', 's']\n"
     ]
    }
   ],
   "source": [
    "s=\"pwskills\"\n",
    "s1=list(s)\n",
    "l=[i for i in s1]\n",
    "print(l)"
   ]
  },
  {
   "cell_type": "code",
   "execution_count": null,
   "id": "4fc3c09c-9daf-4b92-af23-e54ef42373a5",
   "metadata": {},
   "outputs": [],
   "source": []
  }
 ],
 "metadata": {
  "kernelspec": {
   "display_name": "Python 3 (ipykernel)",
   "language": "python",
   "name": "python3"
  },
  "language_info": {
   "codemirror_mode": {
    "name": "ipython",
    "version": 3
   },
   "file_extension": ".py",
   "mimetype": "text/x-python",
   "name": "python",
   "nbconvert_exporter": "python",
   "pygments_lexer": "ipython3",
   "version": "3.10.8"
  }
 },
 "nbformat": 4,
 "nbformat_minor": 5
}
