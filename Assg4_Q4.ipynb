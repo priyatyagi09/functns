{
 "cells": [
  {
   "cell_type": "code",
   "execution_count": 23,
   "id": "a019d61e-e157-400d-b541-2cc7b62a1ceb",
   "metadata": {},
   "outputs": [
    {
     "name": "stdout",
     "output_type": "stream",
     "text": [
      "[1, 2, 3, 4, 5, 6, 7, 8, 9, 10, 11, 12, 13, 14, 15, 16, 17, 18, 19, 20, 21, 22, 23, 24]\n"
     ]
    }
   ],
   "source": [
    "l=[]\n",
    "for i in range(1,25):\n",
    "    l.append(i)\n",
    "print(l)"
   ]
  },
  {
   "cell_type": "code",
   "execution_count": 21,
   "id": "cff4c8e0-88fd-4d7e-b1ca-db91263ee00e",
   "metadata": {},
   "outputs": [],
   "source": [
    "from functools import reduce"
   ]
  },
  {
   "cell_type": "code",
   "execution_count": 24,
   "id": "e43cc0e3-bc36-43e7-9f81-e5622efc6246",
   "metadata": {},
   "outputs": [
    {
     "data": {
      "text/plain": [
       "620448401733239439360000"
      ]
     },
     "execution_count": 24,
     "metadata": {},
     "output_type": "execute_result"
    }
   ],
   "source": [
    "reduce(lambda x, y: x*y,l)"
   ]
  },
  {
   "cell_type": "markdown",
   "id": "ed56adc7-183b-426e-a8e6-9e16e80cbcf7",
   "metadata": {},
   "source": [
    "#Another Method"
   ]
  },
  {
   "cell_type": "code",
   "execution_count": 4,
   "id": "9da13ed7-077b-4233-8537-7d4dacd0dcfc",
   "metadata": {},
   "outputs": [],
   "source": [
    "l1=[1,2,3,4,5,6,7,8,9,10,11,12,13,14,15,16,17,18,19,20,21,22,23,24,25]"
   ]
  },
  {
   "cell_type": "code",
   "execution_count": 2,
   "id": "ddd6731b-0ce2-4340-a67f-b0378ee55106",
   "metadata": {},
   "outputs": [],
   "source": [
    "from functools import reduce"
   ]
  },
  {
   "cell_type": "code",
   "execution_count": 5,
   "id": "231ef790-6f95-4216-b47e-7445f101d050",
   "metadata": {},
   "outputs": [
    {
     "data": {
      "text/plain": [
       "15511210043330985984000000"
      ]
     },
     "execution_count": 5,
     "metadata": {},
     "output_type": "execute_result"
    }
   ],
   "source": [
    "reduce(lambda x, y: x*y,l1)"
   ]
  },
  {
   "cell_type": "code",
   "execution_count": null,
   "id": "093df681-efe8-414d-8c60-38ec3d805cf1",
   "metadata": {},
   "outputs": [],
   "source": []
  }
 ],
 "metadata": {
  "kernelspec": {
   "display_name": "Python 3 (ipykernel)",
   "language": "python",
   "name": "python3"
  },
  "language_info": {
   "codemirror_mode": {
    "name": "ipython",
    "version": 3
   },
   "file_extension": ".py",
   "mimetype": "text/x-python",
   "name": "python",
   "nbconvert_exporter": "python",
   "pygments_lexer": "ipython3",
   "version": "3.10.8"
  }
 },
 "nbformat": 4,
 "nbformat_minor": 5
}
