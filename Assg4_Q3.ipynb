{
 "cells": [
  {
   "cell_type": "code",
   "execution_count": 3,
   "id": "ece48fa9-cd6e-46e8-9b92-6ff9315cb3c6",
   "metadata": {},
   "outputs": [],
   "source": [
    "a=[1,2,3,4,5,6,7,8,9,10]"
   ]
  },
  {
   "cell_type": "code",
   "execution_count": 5,
   "id": "2afdb93d-6d9f-4b69-ba2b-542289eaaed1",
   "metadata": {},
   "outputs": [
    {
     "data": {
      "text/plain": [
       "list"
      ]
     },
     "execution_count": 5,
     "metadata": {},
     "output_type": "execute_result"
    }
   ],
   "source": [
    "type(a)"
   ]
  },
  {
   "cell_type": "code",
   "execution_count": 6,
   "id": "0c819dfa-e4ab-4ae1-81c5-bfda341bd424",
   "metadata": {},
   "outputs": [],
   "source": [
    "a[0]=str(a[0])    "
   ]
  },
  {
   "cell_type": "code",
   "execution_count": 7,
   "id": "febfa761-eea1-4f40-94c5-87eff465d499",
   "metadata": {},
   "outputs": [
    {
     "data": {
      "text/plain": [
       "['1', 2, 3, 4, 5, 6, 7, 8, 9, 10]"
      ]
     },
     "execution_count": 7,
     "metadata": {},
     "output_type": "execute_result"
    }
   ],
   "source": [
    "a"
   ]
  },
  {
   "cell_type": "code",
   "execution_count": 11,
   "id": "cf126ee8-7c4a-4edd-942b-08ccf7cd6652",
   "metadata": {},
   "outputs": [],
   "source": [
    "l=[]\n",
    "for i in a:\n",
    "    i=str(i)\n",
    "    l.append(i)"
   ]
  },
  {
   "cell_type": "code",
   "execution_count": 12,
   "id": "b12a925c-543b-4f9b-b524-c7967fcc7385",
   "metadata": {},
   "outputs": [
    {
     "data": {
      "text/plain": [
       "['1', '2', '3', '4', '5', '6', '7', '8', '9', '10']"
      ]
     },
     "execution_count": 12,
     "metadata": {},
     "output_type": "execute_result"
    }
   ],
   "source": [
    "l"
   ]
  },
  {
   "cell_type": "code",
   "execution_count": 13,
   "id": "6aa7173f-b3da-4ac9-b376-8fb69e0310c9",
   "metadata": {},
   "outputs": [
    {
     "data": {
      "text/plain": [
       "('1', '2', '3', '4', '5', '6', '7', '8', '9', '10')"
      ]
     },
     "execution_count": 13,
     "metadata": {},
     "output_type": "execute_result"
    }
   ],
   "source": [
    "tuple(map(lambda x: x,l))"
   ]
  },
  {
   "cell_type": "code",
   "execution_count": null,
   "id": "8ca5c653-7a14-4125-a8e8-85a7bf557800",
   "metadata": {},
   "outputs": [],
   "source": []
  }
 ],
 "metadata": {
  "kernelspec": {
   "display_name": "Python 3 (ipykernel)",
   "language": "python",
   "name": "python3"
  },
  "language_info": {
   "codemirror_mode": {
    "name": "ipython",
    "version": 3
   },
   "file_extension": ".py",
   "mimetype": "text/x-python",
   "name": "python",
   "nbconvert_exporter": "python",
   "pygments_lexer": "ipython3",
   "version": "3.10.8"
  }
 },
 "nbformat": 4,
 "nbformat_minor": 5
}
